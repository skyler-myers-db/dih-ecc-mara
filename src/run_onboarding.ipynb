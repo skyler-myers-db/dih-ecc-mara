{
 "cells": [
  {
   "cell_type": "code",
   "execution_count": 0,
   "metadata": {
    "application/vnd.databricks.v1+cell": {
     "cellMetadata": {},
     "inputWidgets": {},
     "nuid": "3b97ceca-0ea0-4533-a665-63ce56280132",
     "showTitle": false,
     "title": ""
    }
   },
   "outputs": [],
   "source": [
    "%pip install /Workspace/Users/skyler.myers@sobeys.com/sobeys/dlt_meta-0.0.3-py3-none-any.whl --force-reinstall --quiet"
   ]
  },
  {
   "cell_type": "code",
   "execution_count": 0,
   "metadata": {
    "application/vnd.databricks.v1+cell": {
     "cellMetadata": {},
     "inputWidgets": {},
     "nuid": "3f80f60f-dd13-4291-b66a-5aa7192a057e",
     "showTitle": false,
     "title": ""
    }
   },
   "outputs": [],
   "source": [
    "onboarding_params_map: dict = {\n",
    "\t\t\"database\": \"dihpoc.dataflowspec_tables\",\n",
    "\t\t\"onboarding_file_path\": \"file:/Workspace/Repos/skyler.myers@sobeys.com/sobeys_dih_meta/integration-tests/onboarding.json\",\n",
    "\t\t\"bronze_dataflowspec_table\": \"raw_dataflowspec_table_mara\", \n",
    "\t\t\"bronze_dataflowspec_path\": \"dbfs:/onboarding_tables_cdc/bronze\",                       \n",
    "\t\t\"silver_dataflowspec_table\": \"trusted_dataflowspec_table_mara\",\n",
    "\t\t\"silver_dataflowspec_path\": \"dbfs:/onboarding_tables_cdc/silver\",\n",
    "\t\t\"overwrite\": \"True\",\n",
    "\t\t\"env\": \"dev\",\n",
    "\t\t\"version\": \"v1\",\n",
    "\t\t\"import_author\": \"skyler.myers@databricks.com\",\n",
    "\t}\n",
    "\n",
    "from src.onboard_dataflowspec import OnboardDataflowspec\n",
    "OnboardDataflowspec(spark, onboarding_params_map).onboard_dataflow_specs()"
   ]
  }
 ],
 "metadata": {
  "application/vnd.databricks.v1+notebook": {
   "dashboards": [],
   "language": "python",
   "notebookMetadata": {},
   "notebookName": "run_onboarding",
   "widgets": {}
  }
 },
 "nbformat": 4,
 "nbformat_minor": 0
}
