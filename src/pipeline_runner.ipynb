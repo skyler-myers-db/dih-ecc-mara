{
 "cells": [
  {
   "cell_type": "code",
   "execution_count": 0,
   "metadata": {
    "application/vnd.databricks.v1+cell": {
     "cellMetadata": {},
     "inputWidgets": {},
     "nuid": "1326c5b8-0482-4146-b18b-c9c52e108951",
     "showTitle": false,
     "title": ""
    }
   },
   "outputs": [],
   "source": [
    "%pip install /Workspace/Users/skyler.myers@sobeys.com/sobeys/dlt_meta-0.0.3-py3-none-any.whl --force-reinstall --quiet"
   ]
  },
  {
   "cell_type": "code",
   "execution_count": 0,
   "metadata": {
    "application/vnd.databricks.v1+cell": {
     "cellMetadata": {},
     "inputWidgets": {},
     "nuid": "c90ed52f-d296-4dd2-8a29-dd223fc58bf4",
     "showTitle": false,
     "title": ""
    }
   },
   "outputs": [],
   "source": [
    "layer = spark.conf.get(\"layer\", None)\n",
    "from src.dataflow_pipeline import DataflowPipeline\n",
    "DataflowPipeline.invoke_dlt_pipeline(spark, layer)"
   ]
  }
 ],
 "metadata": {
  "application/vnd.databricks.v1+notebook": {
   "dashboards": [],
   "language": "python",
   "notebookMetadata": {
    "pythonIndentUnit": 4
   },
   "notebookName": "pipeline_runner",
   "widgets": {}
  }
 },
 "nbformat": 4,
 "nbformat_minor": 0
}
