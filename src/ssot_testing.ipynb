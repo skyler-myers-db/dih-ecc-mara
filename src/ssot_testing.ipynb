{
 "cells": [
  {
   "cell_type": "code",
   "execution_count": 0,
   "metadata": {
    "application/vnd.databricks.v1+cell": {
     "cellMetadata": {},
     "inputWidgets": {},
     "nuid": "cdfbadd4-9b78-457d-a2e3-9c7f1f459712",
     "showTitle": false,
     "title": ""
    }
   },
   "outputs": [],
   "source": [
    "from random import choice, random\n",
    "from string import printable\n",
    "from pyspark.sql.functions import current_timestamp"
   ]
  },
  {
   "cell_type": "code",
   "execution_count": 0,
   "metadata": {
    "application/vnd.databricks.v1+cell": {
     "cellMetadata": {},
     "inputWidgets": {},
     "nuid": "b5092b02-52e0-4312-a85a-fb4dfa696631",
     "showTitle": false,
     "title": ""
    }
   },
   "outputs": [],
   "source": [
    "categories = (\n",
    "    \"discount\",\n",
    "    \"home improvement\",\n",
    "    \"outdoor\",\n",
    "    \"lawn\",\n",
    "    \"camping\",\n",
    "    \"household\",\n",
    "    \"sports\",\n",
    "    \"utility\",\n",
    "    \"maintenance\",\n",
    "    \"repair\",\n",
    "    \"cooking\",\n",
    "    \"kitchen\",\n",
    "    \"garage\",\n",
    "    \"appliance\",\n",
    "    \"software\",\n",
    "    \"hardware\",\n",
    "    \"electronics\",\n",
    "    \"video games\",\n",
    "    \"consoles\",\n",
    "    \"tv\",\n",
    "    \"entertainment\",\n",
    "    \"gardening\",\n",
    ")"
   ]
  },
  {
   "cell_type": "code",
   "execution_count": 0,
   "metadata": {
    "application/vnd.databricks.v1+cell": {
     "cellMetadata": {},
     "inputWidgets": {},
     "nuid": "263a4da9-3bac-4fcc-a7d3-d2c65b922933",
     "showTitle": false,
     "title": ""
    }
   },
   "outputs": [],
   "source": [
    "source_data = [\n",
    "    (\n",
    "        i, f\"item{i}\", i * 20, random(), choice(categories), choice(tuple(printable))\n",
    "    ) for i in range(10000000)\n",
    "]"
   ]
  },
  {
   "cell_type": "code",
   "execution_count": 0,
   "metadata": {
    "application/vnd.databricks.v1+cell": {
     "cellMetadata": {},
     "inputWidgets": {},
     "nuid": "e72479de-9eb0-4df1-b1a7-0311109af3d9",
     "showTitle": false,
     "title": ""
    }
   },
   "outputs": [],
   "source": [
    "source_df = spark.createDataFrame(source_data, [\n",
    "    \"id\", \"name\", \"inventory\", \"proportion_sold\", \"category\", \"abbreviation\"\n",
    "])"
   ]
  },
  {
   "cell_type": "code",
   "execution_count": 0,
   "metadata": {
    "application/vnd.databricks.v1+cell": {
     "cellMetadata": {},
     "inputWidgets": {},
     "nuid": "73526abe-5a28-4202-b692-0f75334f7b4e",
     "showTitle": false,
     "title": ""
    }
   },
   "outputs": [],
   "source": [
    "%sql\n",
    "USE CATALOG dihpoc;"
   ]
  },
  {
   "cell_type": "code",
   "execution_count": 0,
   "metadata": {
    "application/vnd.databricks.v1+cell": {
     "cellMetadata": {},
     "inputWidgets": {},
     "nuid": "23c9f58c-170a-4d8c-8eb1-aead2983702e",
     "showTitle": false,
     "title": ""
    }
   },
   "outputs": [],
   "source": [
    "%sql\n",
    "CREATE SCHEMA IF NOT EXISTS testing;"
   ]
  },
  {
   "cell_type": "code",
   "execution_count": 0,
   "metadata": {
    "application/vnd.databricks.v1+cell": {
     "cellMetadata": {},
     "inputWidgets": {},
     "nuid": "de32c66a-224f-421e-9542-639158e3e1d2",
     "showTitle": false,
     "title": ""
    }
   },
   "outputs": [],
   "source": [
    "%sql\n",
    "CREATE SCHEMA IF NOT EXISTS sink;"
   ]
  },
  {
   "cell_type": "code",
   "execution_count": 0,
   "metadata": {
    "application/vnd.databricks.v1+cell": {
     "cellMetadata": {},
     "inputWidgets": {},
     "nuid": "6c1ba61e-12a7-4668-86d6-d0399167eb4d",
     "showTitle": false,
     "title": ""
    }
   },
   "outputs": [],
   "source": [
    "%sql\n",
    "CREATE SCHEMA IF NOT EXISTS bronze;"
   ]
  },
  {
   "cell_type": "code",
   "execution_count": 0,
   "metadata": {
    "application/vnd.databricks.v1+cell": {
     "cellMetadata": {},
     "inputWidgets": {},
     "nuid": "f9dd71a4-6a41-4b1e-b282-5e8de6ffd79d",
     "showTitle": false,
     "title": ""
    }
   },
   "outputs": [],
   "source": [
    "%sql\n",
    "CREATE SCHEMA IF NOT EXISTS silver;"
   ]
  },
  {
   "cell_type": "code",
   "execution_count": 0,
   "metadata": {
    "application/vnd.databricks.v1+cell": {
     "cellMetadata": {},
     "inputWidgets": {},
     "nuid": "c90fa2b2-9c68-44e7-bac2-2a5bee72ba90",
     "showTitle": false,
     "title": ""
    }
   },
   "outputs": [],
   "source": [
    "source_df.withColumn(\n",
    "    \"record_timestamp\", current_timestamp(),\n",
    ").write.format(\"delta\").saveAsTable(\n",
    "    name=\"testing.source_table\",\n",
    "    mode=\"overwrite\",\n",
    "    overwriteSchema=True,\n",
    ")"
   ]
  },
  {
   "cell_type": "code",
   "execution_count": 0,
   "metadata": {
    "application/vnd.databricks.v1+cell": {
     "cellMetadata": {},
     "inputWidgets": {},
     "nuid": "b6fc8689-2f7d-49ec-a2ca-dd10b66f039f",
     "showTitle": false,
     "title": ""
    }
   },
   "outputs": [],
   "source": [
    "%sql\n",
    "DROP TABLE IF EXISTS testing.test_table1;\n",
    "CREATE TABLE testing.test_table1 (\n",
    "  item_id BIGINT NOT NULL PRIMARY KEY,\n",
    "  percent_sold VARCHAR(7) NOT NULL,\n",
    "  record_timestamp TIMESTAMP NOT NULL\n",
    ")"
   ]
  },
  {
   "cell_type": "code",
   "execution_count": 0,
   "metadata": {
    "application/vnd.databricks.v1+cell": {
     "cellMetadata": {},
     "inputWidgets": {},
     "nuid": "8a1b24e4-9b67-4044-81cb-501fb0d73638",
     "showTitle": false,
     "title": ""
    }
   },
   "outputs": [],
   "source": [
    "%sql\n",
    "DROP TABLE IF EXISTS sink.test_table2;\n",
    "CREATE TABLE sink.test_table2 (\n",
    "  id BIGINT NOT NULL PRIMARY KEY,\n",
    "  total_sales BIGINT NOT NULL,\n",
    "  item_full_name STRING NOT NULL,\n",
    "  created_timestamp TIMESTAMP NOT NULL\n",
    ")"
   ]
  },
  {
   "cell_type": "code",
   "execution_count": 0,
   "metadata": {
    "application/vnd.databricks.v1+cell": {
     "cellMetadata": {},
     "inputWidgets": {},
     "nuid": "dc04162d-7898-449b-9945-b8e7e7f0394c",
     "showTitle": false,
     "title": ""
    }
   },
   "outputs": [],
   "source": [
    "dbutils.fs.mkdirs(\"/dbfs/testing/\")"
   ]
  },
  {
   "cell_type": "code",
   "execution_count": 0,
   "metadata": {
    "application/vnd.databricks.v1+cell": {
     "cellMetadata": {},
     "inputWidgets": {},
     "nuid": "23115c20-7354-48be-8a5a-1fe7dd64d55f",
     "showTitle": false,
     "title": ""
    }
   },
   "outputs": [],
   "source": [
    "dbutils.fs.mkdirs(\"/dbfs/testing/checkpoint_tests/\")"
   ]
  },
  {
   "cell_type": "code",
   "execution_count": 0,
   "metadata": {
    "application/vnd.databricks.v1+cell": {
     "cellMetadata": {},
     "inputWidgets": {},
     "nuid": "13450243-15fc-4fa6-991a-107aa46babfc",
     "showTitle": false,
     "title": ""
    }
   },
   "outputs": [],
   "source": [
    "dbutils.fs.rm(\"/dbfs/testing/checkpoint_tests/\", True)"
   ]
  },
  {
   "cell_type": "code",
   "execution_count": 0,
   "metadata": {
    "application/vnd.databricks.v1+cell": {
     "cellMetadata": {},
     "inputWidgets": {},
     "nuid": "b01b030e-a41c-461d-bab6-4af8ae2acbbc",
     "showTitle": false,
     "title": ""
    }
   },
   "outputs": [],
   "source": [
    "df=(\n",
    "    spark.read.csv(\n",
    "        path=\"abfss://landing@sbyccdevemdplandsa.dfs.core.windows.net/sobeys/merchandising/ecc/MARA/2023/02/17\",\n",
    "        header=True,\n",
    "    )\n",
    ")\n",
    "display(df)"
   ]
  }
 ],
 "metadata": {
  "application/vnd.databricks.v1+notebook": {
   "dashboards": [],
   "language": "python",
   "notebookMetadata": {
    "pythonIndentUnit": 4
   },
   "notebookName": "ssot_testing",
   "widgets": {}
  }
 },
 "nbformat": 4,
 "nbformat_minor": 0
}
