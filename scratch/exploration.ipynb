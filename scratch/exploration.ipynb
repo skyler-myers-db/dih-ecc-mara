import sys
sys.path.append('../src')
from sobeys_meta import main

main.get_taxis().show(10)
